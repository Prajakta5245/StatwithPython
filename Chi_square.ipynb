{
  "nbformat": 4,
  "nbformat_minor": 0,
  "metadata": {
    "colab": {
      "provenance": [],
      "authorship_tag": "ABX9TyOS2NjBf1UAugmCDKM2YZBV",
      "include_colab_link": true
    },
    "kernelspec": {
      "name": "python3",
      "display_name": "Python 3"
    },
    "language_info": {
      "name": "python"
    }
  },
  "cells": [
    {
      "cell_type": "markdown",
      "metadata": {
        "id": "view-in-github",
        "colab_type": "text"
      },
      "source": [
        "<a href=\"https://colab.research.google.com/github/Prajakta5245/StatwithPython/blob/main/Chi_square.ipynb\" target=\"_parent\"><img src=\"https://colab.research.google.com/assets/colab-badge.svg\" alt=\"Open In Colab\"/></a>"
      ]
    },
    {
      "cell_type": "code",
      "execution_count": 1,
      "metadata": {
        "id": "Z-31m8cUCKaV"
      },
      "outputs": [],
      "source": [
        "import scipy.stats as stat\n",
        "import numpy as num"
      ]
    },
    {
      "cell_type": "code",
      "source": [
        "## no. of student study in weekly basis daily\n",
        "expected_data=[8,6,7,9,6,9,7]\n",
        "obsrved_data=[7,8,6,9,9,6,7]"
      ],
      "metadata": {
        "id": "L1caQBaqHQqQ"
      },
      "execution_count": 6,
      "outputs": []
    },
    {
      "cell_type": "code",
      "source": [
        "## chi square goodness of fit test\n",
        "chisquare_test_statistic,p_value=stat.chisquare(obsrved_data,expected_data)"
      ],
      "metadata": {
        "id": "XM_JWjUmH8i3"
      },
      "execution_count": 7,
      "outputs": []
    },
    {
      "cell_type": "code",
      "source": [
        "chisquare_test_statistic,p_value"
      ],
      "metadata": {
        "colab": {
          "base_uri": "https://localhost:8080/"
        },
        "id": "lw96Fy-zIj2x",
        "outputId": "8682a55a-5c62-454a-cc45-0a8b4315feae"
      },
      "execution_count": 8,
      "outputs": [
        {
          "output_type": "execute_result",
          "data": {
            "text/plain": [
              "(3.4345238095238093, 0.7526596580922865)"
            ]
          },
          "metadata": {},
          "execution_count": 8
        }
      ]
    },
    {
      "cell_type": "code",
      "source": [
        "## Find critical value\n",
        "significane_value=0.05\n",
        "dof=len(expected_data)-1\n",
        "print(dof)\n",
        "critical_value=stat.chi2.ppf(1-significane_value,dof)"
      ],
      "metadata": {
        "colab": {
          "base_uri": "https://localhost:8080/"
        },
        "id": "bPbw3THgJy3o",
        "outputId": "0ad7b8bc-1acc-490c-d21d-cf1aa16f9110"
      },
      "execution_count": 9,
      "outputs": [
        {
          "output_type": "stream",
          "name": "stdout",
          "text": [
            "6\n"
          ]
        }
      ]
    },
    {
      "cell_type": "code",
      "source": [
        "critical_value"
      ],
      "metadata": {
        "colab": {
          "base_uri": "https://localhost:8080/"
        },
        "id": "rEERH4_KMhdd",
        "outputId": "6c7de1cc-112d-47e4-8503-9dab95580af7"
      },
      "execution_count": 10,
      "outputs": [
        {
          "output_type": "execute_result",
          "data": {
            "text/plain": [
              "12.591587243743977"
            ]
          },
          "metadata": {},
          "execution_count": 10
        }
      ]
    },
    {
      "cell_type": "code",
      "source": [
        "if chisquare_test_statistic > critical_value:\n",
        "  print (\"reject null hypothysis\")\n",
        "else:\n",
        " print(\"accept null hypothesis\")"
      ],
      "metadata": {
        "colab": {
          "base_uri": "https://localhost:8080/"
        },
        "id": "a5FIWdxsMlQd",
        "outputId": "8d5a384b-6879-4ef5-961b-d08c5f6eb730"
      },
      "execution_count": 15,
      "outputs": [
        {
          "output_type": "stream",
          "name": "stdout",
          "text": [
            "accept null hypothesis\n"
          ]
        }
      ]
    },
    {
      "cell_type": "code",
      "source": [],
      "metadata": {
        "id": "z8FgQx1KNzwl"
      },
      "execution_count": null,
      "outputs": []
    }
  ]
}